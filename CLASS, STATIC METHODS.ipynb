{
 "cells": [
  {
   "cell_type": "code",
   "execution_count": 78,
   "id": "22540475",
   "metadata": {},
   "outputs": [],
   "source": [
    "##CLASS METHODS ################################## associated with class, not object or instance\n",
    "# @classmethod\n",
    "\n",
    "##INSTANCE METHODS ############################### associated with the objects or instances\n",
    "# def abc()   metodos \"normales\"\n",
    "\n",
    "##STATIC METHODS ################################# not associated with class or instance, cannot access to variables on them\n",
    "# @static"
   ]
  },
  {
   "cell_type": "code",
   "execution_count": 69,
   "id": "ca71a81d",
   "metadata": {},
   "outputs": [],
   "source": [
    "class Competencia:\n",
    "    __raise_amount = 1.04\n",
    "    \n",
    "    def __init__(self, name, prize):\n",
    "        self.__name = name\n",
    "        self.__prize = prize\n",
    "        \n",
    "    def raise_prize(self):\n",
    "        self.prize = self.prize * competencia.raise_amount\n",
    "\n",
    "    def print_details(self):\n",
    "        print('Name {} , prize {}'.format(self.__name, self.__prize))\n",
    "    \n",
    "    @classmethod\n",
    "    def get_raise_amount(cls):\n",
    "        return cls.__raise_amount\n",
    "    \n",
    "    @classmethod\n",
    "    def set_raise_amount(cls, amount):\n",
    "        cls.__raise_amount = amount\n",
    "        \n",
    "    @classmethod\n",
    "    def from_str(cls, comp_str):\n",
    "        name, prize = comp_str.split('-')\n",
    "        return cls(name, prize)"
   ]
  },
  {
   "cell_type": "code",
   "execution_count": 70,
   "id": "83326b4d",
   "metadata": {},
   "outputs": [],
   "source": [
    "sprint = Competencia('Sprint',10000)"
   ]
  },
  {
   "cell_type": "code",
   "execution_count": 71,
   "id": "0c09ce2d",
   "metadata": {},
   "outputs": [
    {
     "data": {
      "text/plain": [
       "1.04"
      ]
     },
     "execution_count": 71,
     "metadata": {},
     "output_type": "execute_result"
    }
   ],
   "source": [
    "sprint.get_raise_amount()"
   ]
  },
  {
   "cell_type": "code",
   "execution_count": 72,
   "id": "0a5869e8",
   "metadata": {},
   "outputs": [],
   "source": [
    "sprint.set_raise_amount(1.05)"
   ]
  },
  {
   "cell_type": "code",
   "execution_count": 73,
   "id": "564004f7",
   "metadata": {},
   "outputs": [
    {
     "data": {
      "text/plain": [
       "1.05"
      ]
     },
     "execution_count": 73,
     "metadata": {},
     "output_type": "execute_result"
    }
   ],
   "source": [
    "sprint.get_raise_amount()"
   ]
  },
  {
   "cell_type": "code",
   "execution_count": 74,
   "id": "99c6a666",
   "metadata": {},
   "outputs": [
    {
     "name": "stdout",
     "output_type": "stream",
     "text": [
      "Name swimming , prize 2000\n"
     ]
    }
   ],
   "source": [
    "#SEPARAR VARIABLES #####################################\n",
    "swimming_str = 'swimming-2000'\n",
    "name, prize = swimming_str.split('-')\n",
    "swimming = Competencia(name, prize)\n",
    "swimming.print_details()"
   ]
  },
  {
   "cell_type": "code",
   "execution_count": 75,
   "id": "a6a2c1f4",
   "metadata": {},
   "outputs": [],
   "source": [
    "hiking_str = 'hiking-5000'\n",
    "hiking = Competencia.from_str(hiking_str)\n"
   ]
  },
  {
   "cell_type": "code",
   "execution_count": 76,
   "id": "95372f36",
   "metadata": {},
   "outputs": [
    {
     "name": "stdout",
     "output_type": "stream",
     "text": [
      "Name hiking , prize 5000\n"
     ]
    }
   ],
   "source": [
    "hiking.print_details()"
   ]
  },
  {
   "cell_type": "code",
   "execution_count": 80,
   "id": "605dee0f",
   "metadata": {},
   "outputs": [],
   "source": [
    "#STATIC MEHTOD \"\"\"\"\"\"\"\"\"\"\"\"\"\"\"\"\"\"\"\"\"\"\"\"\"\"\"\"\"\"\"\"\"\"\"\"\"\"\"\"\"\"\"\"\"\"\"\"\"\"\"\"\"\"\"\"\"\"\"\"\"\"\"\"\"\"\"\"\"\""
   ]
  },
  {
   "cell_type": "code",
   "execution_count": 85,
   "id": "96a9dc64",
   "metadata": {},
   "outputs": [],
   "source": [
    "class Rectangle:\n",
    "    def area(x,y):\n",
    "        return x*y"
   ]
  },
  {
   "cell_type": "code",
   "execution_count": 87,
   "id": "bb7fd430",
   "metadata": {},
   "outputs": [],
   "source": [
    "#CONVERTIR A METODO ESTATICO\n",
    "Rectangle.area = staticmethod(Rectangle.area)\n",
    "#DECLARAR METHOD STATICO\n",
    "class Rectangle:\n",
    "    @staticmethod\n",
    "    def area(x,y):\n",
    "        return x*y"
   ]
  },
  {
   "cell_type": "code",
   "execution_count": null,
   "id": "f0885e32",
   "metadata": {},
   "outputs": [],
   "source": []
  }
 ],
 "metadata": {
  "kernelspec": {
   "display_name": "Python 3 (ipykernel)",
   "language": "python",
   "name": "python3"
  },
  "language_info": {
   "codemirror_mode": {
    "name": "ipython",
    "version": 3
   },
   "file_extension": ".py",
   "mimetype": "text/x-python",
   "name": "python",
   "nbconvert_exporter": "python",
   "pygments_lexer": "ipython3",
   "version": "3.9.12"
  }
 },
 "nbformat": 4,
 "nbformat_minor": 5
}
