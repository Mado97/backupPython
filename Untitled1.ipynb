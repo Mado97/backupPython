{
 "cells": [
  {
   "cell_type": "code",
   "execution_count": 54,
   "id": "853db317",
   "metadata": {},
   "outputs": [
    {
     "name": "stdout",
     "output_type": "stream",
     "text": [
      "1021\n",
      "3  -  1\n",
      "2  -  12\n",
      "1  -  120\n",
      "0  -  1201\n"
     ]
    }
   ],
   "source": [
    "num = 0112\n",
    "nume = str(num)\n",
    "x = \"\"\n",
    "print( nume)\n",
    "for i in range(len(nume)-1 , -1, -1):\n",
    "    x += nume[i]\n",
    "    print(str(i),\" - \",x)\n",
    "\n",
    "    "
   ]
  },
  {
   "cell_type": "code",
   "execution_count": 46,
   "id": "e99568a3",
   "metadata": {},
   "outputs": [
    {
     "name": "stdout",
     "output_type": "stream",
     "text": [
      "1.0\n",
      "1.25\n",
      "1.3928571428571428\n",
      "1.4928571428571429\n",
      "1.5697802197802198\n"
     ]
    },
    {
     "data": {
      "text/plain": [
       "1.5697802197802198"
      ]
     },
     "execution_count": 46,
     "metadata": {},
     "output_type": "execute_result"
    }
   ],
   "source": [
    "def series_sum(n):\n",
    "    s = 0.00\n",
    "    for i in range(1,n*3,3):\n",
    "        s = s + 1/i\n",
    "        print(s)\n",
    "    return s\n",
    "\n",
    "\n",
    "\n",
    "series_sum(5)"
   ]
  },
  {
   "cell_type": "code",
   "execution_count": null,
   "id": "9ac19e53",
   "metadata": {},
   "outputs": [],
   "source": [
    "def remove_parentheses(s):\n",
    "    p1, p2 = s.index(\"(\"), s.index(\")\")\n",
    "    return s[0:p1] + s[p2+1::]\n",
    "\n",
    "remove_parentheses(\"Miau(guau)Cuack\")\n",
    "\n"
   ]
  },
  {
   "cell_type": "code",
   "execution_count": null,
   "id": "1aa0a990",
   "metadata": {},
   "outputs": [],
   "source": [
    "def remove_parentheses1(s):\n",
    "    while s.find('(') != -1 or s.find(')') != -1:\n",
    "        p1, p2 = s.index(\"(\"), s.index(\")\")  \n",
    "        s = s[0:p1] + s[p2+1:]\n",
    "        remove_parentheses(s)\n",
    "    return s\n",
    "\n",
    "remove_parentheses1(\"hello example (words(more words) here) something\")"
   ]
  },
  {
   "cell_type": "code",
   "execution_count": null,
   "id": "0104a6bf",
   "metadata": {},
   "outputs": [],
   "source": []
  }
 ],
 "metadata": {
  "kernelspec": {
   "display_name": "Python 3 (ipykernel)",
   "language": "python",
   "name": "python3"
  },
  "language_info": {
   "codemirror_mode": {
    "name": "ipython",
    "version": 3
   },
   "file_extension": ".py",
   "mimetype": "text/x-python",
   "name": "python",
   "nbconvert_exporter": "python",
   "pygments_lexer": "ipython3",
   "version": "3.9.12"
  }
 },
 "nbformat": 4,
 "nbformat_minor": 5
}
