{
 "cells": [
  {
   "cell_type": "code",
   "execution_count": 77,
   "id": "e467396a",
   "metadata": {},
   "outputs": [],
   "source": [
    "def intToRoman(num: int) -> str:\n",
    "    thou = {0:'', 1:'M', 2: 'MM', 3:'MMM'}\n",
    "    cent = {0:'', 1:'C', 2: 'CC', 3:'CCC', 4:'CD', 5:'D', 6:'DC', 7:'DCC', 8:'DCCC', 9:'CD'}\n",
    "    dec = {0:'', 1:'X', 2:'XX', 3:'XXX', 4:'XL', 5:'L', 6:'LX', 7:'LXX', 8:'LXXX', 9:'XC'}\n",
    "    unit = {0:'', 1:'I', 2:'II',3: 'III', 4:'IV', 5:'V', 6:'VI',  7:'VII', 8:'VIII', 9:'XI'}\n",
    "    \n",
    "    \n",
    "    thou_add = thou.get(num // 1000)\n",
    "    cent_add = cent.get((num % 1000)//100)\n",
    "    dec_add = dec.get((num % 100)//10)\n",
    "    unit_add = unit.get((num % 10))\n",
    "    \n",
    "    return thou_add + cent_add + dec_add + unit_add"
   ]
  },
  {
   "cell_type": "code",
   "execution_count": 78,
   "id": "75dda0db",
   "metadata": {},
   "outputs": [
    {
     "data": {
      "text/plain": [
       "'LXXXV'"
      ]
     },
     "execution_count": 78,
     "metadata": {},
     "output_type": "execute_result"
    }
   ],
   "source": [
    "intToRoman(85)\n"
   ]
  },
  {
   "cell_type": "code",
   "execution_count": 79,
   "id": "3299c416",
   "metadata": {},
   "outputs": [
    {
     "data": {
      "text/plain": [
       "0"
      ]
     },
     "execution_count": 79,
     "metadata": {},
     "output_type": "execute_result"
    }
   ],
   "source": [
    "85 // 1000"
   ]
  },
  {
   "cell_type": "code",
   "execution_count": null,
   "id": "e768fb1b",
   "metadata": {},
   "outputs": [],
   "source": []
  }
 ],
 "metadata": {
  "kernelspec": {
   "display_name": "Python 3 (ipykernel)",
   "language": "python",
   "name": "python3"
  },
  "language_info": {
   "codemirror_mode": {
    "name": "ipython",
    "version": 3
   },
   "file_extension": ".py",
   "mimetype": "text/x-python",
   "name": "python",
   "nbconvert_exporter": "python",
   "pygments_lexer": "ipython3",
   "version": "3.9.12"
  }
 },
 "nbformat": 4,
 "nbformat_minor": 5
}
