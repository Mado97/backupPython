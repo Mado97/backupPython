{
 "cells": [
  {
   "cell_type": "code",
   "execution_count": 1,
   "id": "c12d5843",
   "metadata": {},
   "outputs": [],
   "source": [
    "from abc import ABC, abstractmethod"
   ]
  },
  {
   "cell_type": "code",
   "execution_count": 43,
   "id": "be3900e5",
   "metadata": {},
   "outputs": [],
   "source": [
    "#ABSTRACT BASE CLASS (ABC) a class with not all implementations in all methods\n",
    "class Hominidae(ABC):\n",
    "    @abstractmethod\n",
    "    def diet(self):\n",
    "        pass\n",
    "    @abstractmethod\n",
    "    def walk(self):\n",
    "        pass\n",
    "    def behavior(self):\n",
    "        print('Social and complex ')\n",
    "        \n",
    "#CLASE DERIVADA  Debe tener declarados todos los metodos, si falta alguno de los metodos abstractos de la clase asbtracta base, este va a dar error\n",
    "class Human(Hominidae):\n",
    "    def diet(self):\n",
    "        print('Omnivorous')\n",
    "    def walk(self):\n",
    "        print('Bipeds')"
   ]
  },
  {
   "cell_type": "code",
   "execution_count": 44,
   "id": "fc25e6d2",
   "metadata": {},
   "outputs": [
    {
     "ename": "TypeError",
     "evalue": "Can't instantiate abstract class Hominidae with abstract methods diet, walk",
     "output_type": "error",
     "traceback": [
      "\u001b[1;31m---------------------------------------------------------------------------\u001b[0m",
      "\u001b[1;31mTypeError\u001b[0m                                 Traceback (most recent call last)",
      "Input \u001b[1;32mIn [44]\u001b[0m, in \u001b[0;36m<cell line: 1>\u001b[1;34m()\u001b[0m\n\u001b[1;32m----> 1\u001b[0m chimpanzee \u001b[38;5;241m=\u001b[39m \u001b[43mHominidae\u001b[49m\u001b[43m(\u001b[49m\u001b[43m)\u001b[49m\n\u001b[0;32m      2\u001b[0m chimpanzee\u001b[38;5;241m.\u001b[39mbehavior()\n\u001b[0;32m      3\u001b[0m chimpanzee\u001b[38;5;241m.\u001b[39mwalk()\n",
      "\u001b[1;31mTypeError\u001b[0m: Can't instantiate abstract class Hominidae with abstract methods diet, walk"
     ]
    }
   ],
   "source": [
    "chimpanzee = Hominidae()\n",
    "chimpanzee.behavior()\n",
    "chimpanzee.walk()\n",
    "chimpanzee.diet()\n",
    "\n",
    "#Ya no se puede declarar ya que es una clase y metodos abstractos\n"
   ]
  },
  {
   "cell_type": "code",
   "execution_count": 45,
   "id": "f0d4bb6d",
   "metadata": {},
   "outputs": [],
   "source": [
    "Paul = Human()"
   ]
  },
  {
   "cell_type": "code",
   "execution_count": 46,
   "id": "2b66d4fb",
   "metadata": {},
   "outputs": [
    {
     "name": "stdout",
     "output_type": "stream",
     "text": [
      "Bipeds\n"
     ]
    }
   ],
   "source": [
    "Paul.walk()\n",
    "chimpanzee.walk() #este no devuelve nada ya que el method de hominidae no esta declarado aun\n"
   ]
  },
  {
   "cell_type": "code",
   "execution_count": null,
   "id": "3c26998c",
   "metadata": {},
   "outputs": [],
   "source": []
  }
 ],
 "metadata": {
  "kernelspec": {
   "display_name": "Python 3 (ipykernel)",
   "language": "python",
   "name": "python3"
  },
  "language_info": {
   "codemirror_mode": {
    "name": "ipython",
    "version": 3
   },
   "file_extension": ".py",
   "mimetype": "text/x-python",
   "name": "python",
   "nbconvert_exporter": "python",
   "pygments_lexer": "ipython3",
   "version": "3.9.12"
  }
 },
 "nbformat": 4,
 "nbformat_minor": 5
}
