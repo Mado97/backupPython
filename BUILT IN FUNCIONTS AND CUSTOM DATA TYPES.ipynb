{
 "cells": [
  {
   "cell_type": "code",
   "execution_count": 38,
   "id": "a053f1f3",
   "metadata": {},
   "outputs": [],
   "source": [
    "class Participants:\n",
    "    \n",
    "    def __init__(self):\n",
    "        self.__participants = []\n",
    "    \n",
    "    def addpart(self, name):\n",
    "        self.__participants.append(name)\n",
    "    \n",
    "    def __len__(self):\n",
    "        return len(self.__participants)\n",
    "    \n",
    "    #Mueve el index o apuntador de la lista al index 0\n",
    "    def __iter__(self):\n",
    "        self.__index = 0\n",
    "        return self    \n",
    "\n",
    "    def __next__(self):\n",
    "        if self.__index == len(self.__participants):\n",
    "            raise StopIteration\n",
    "        p = self.__participants[self.__index]\n",
    "        self.__index += 1\n",
    "        return p"
   ]
  },
  {
   "cell_type": "code",
   "execution_count": 59,
   "id": "6a621ef0",
   "metadata": {},
   "outputs": [],
   "source": [
    "participantes = Participants()"
   ]
  },
  {
   "cell_type": "code",
   "execution_count": 60,
   "id": "b547cada",
   "metadata": {},
   "outputs": [],
   "source": [
    "participantes.addpart('Mike')\n",
    "participantes.addpart('John')\n",
    "participantes.addpart('Kelly')\n",
    "participantes.addpart('Smaul')\n"
   ]
  },
  {
   "cell_type": "code",
   "execution_count": 61,
   "id": "8f74ca49",
   "metadata": {},
   "outputs": [
    {
     "name": "stdout",
     "output_type": "stream",
     "text": [
      "Mike\n",
      "John\n",
      "Kelly\n",
      "Smaul\n"
     ]
    }
   ],
   "source": [
    "for p in participantes:\n",
    "    print(p)"
   ]
  },
  {
   "cell_type": "code",
   "execution_count": 62,
   "id": "01f28b2d",
   "metadata": {},
   "outputs": [
    {
     "data": {
      "text/plain": [
       "4"
      ]
     },
     "execution_count": 62,
     "metadata": {},
     "output_type": "execute_result"
    }
   ],
   "source": [
    "len(participantes)"
   ]
  },
  {
   "cell_type": "code",
   "execution_count": 63,
   "id": "24d17f99",
   "metadata": {},
   "outputs": [
    {
     "data": {
      "text/plain": [
       "<__main__.Participants at 0x2057b505250>"
      ]
     },
     "execution_count": 63,
     "metadata": {},
     "output_type": "execute_result"
    }
   ],
   "source": [
    "iter(participantes)"
   ]
  },
  {
   "cell_type": "code",
   "execution_count": 64,
   "id": "8d779a2c",
   "metadata": {},
   "outputs": [
    {
     "data": {
      "text/plain": [
       "'Mike'"
      ]
     },
     "execution_count": 64,
     "metadata": {},
     "output_type": "execute_result"
    }
   ],
   "source": [
    "next(participantes)"
   ]
  },
  {
   "cell_type": "code",
   "execution_count": 65,
   "id": "db1b194e",
   "metadata": {},
   "outputs": [
    {
     "data": {
      "text/plain": [
       "'John'"
      ]
     },
     "execution_count": 65,
     "metadata": {},
     "output_type": "execute_result"
    }
   ],
   "source": [
    "next(participantes)"
   ]
  },
  {
   "cell_type": "code",
   "execution_count": 66,
   "id": "be4fbd97",
   "metadata": {},
   "outputs": [
    {
     "data": {
      "text/plain": [
       "'Kelly'"
      ]
     },
     "execution_count": 66,
     "metadata": {},
     "output_type": "execute_result"
    }
   ],
   "source": [
    "next(participantes)"
   ]
  },
  {
   "cell_type": "code",
   "execution_count": 67,
   "id": "7985b092",
   "metadata": {},
   "outputs": [
    {
     "data": {
      "text/plain": [
       "'Smaul'"
      ]
     },
     "execution_count": 67,
     "metadata": {},
     "output_type": "execute_result"
    }
   ],
   "source": [
    "next(participantes)"
   ]
  },
  {
   "cell_type": "code",
   "execution_count": 70,
   "id": "c031e7fe",
   "metadata": {},
   "outputs": [
    {
     "ename": "StopIteration",
     "evalue": "",
     "output_type": "error",
     "traceback": [
      "\u001b[1;31m---------------------------------------------------------------------------\u001b[0m",
      "\u001b[1;31mStopIteration\u001b[0m                             Traceback (most recent call last)",
      "Input \u001b[1;32mIn [70]\u001b[0m, in \u001b[0;36m<cell line: 1>\u001b[1;34m()\u001b[0m\n\u001b[1;32m----> 1\u001b[0m \u001b[38;5;28;43mnext\u001b[39;49m\u001b[43m(\u001b[49m\u001b[43mparticipantes\u001b[49m\u001b[43m)\u001b[49m\n",
      "Input \u001b[1;32mIn [38]\u001b[0m, in \u001b[0;36mParticipants.__next__\u001b[1;34m(self)\u001b[0m\n\u001b[0;32m     17\u001b[0m \u001b[38;5;28;01mdef\u001b[39;00m \u001b[38;5;21m__next__\u001b[39m(\u001b[38;5;28mself\u001b[39m):\n\u001b[0;32m     18\u001b[0m     \u001b[38;5;28;01mif\u001b[39;00m \u001b[38;5;28mself\u001b[39m\u001b[38;5;241m.\u001b[39m__index \u001b[38;5;241m==\u001b[39m \u001b[38;5;28mlen\u001b[39m(\u001b[38;5;28mself\u001b[39m\u001b[38;5;241m.\u001b[39m__participants):\n\u001b[1;32m---> 19\u001b[0m         \u001b[38;5;28;01mraise\u001b[39;00m \u001b[38;5;167;01mStopIteration\u001b[39;00m\n\u001b[0;32m     20\u001b[0m     p \u001b[38;5;241m=\u001b[39m \u001b[38;5;28mself\u001b[39m\u001b[38;5;241m.\u001b[39m__participants[\u001b[38;5;28mself\u001b[39m\u001b[38;5;241m.\u001b[39m__index]\n\u001b[0;32m     21\u001b[0m     \u001b[38;5;28mself\u001b[39m\u001b[38;5;241m.\u001b[39m__index \u001b[38;5;241m+\u001b[39m\u001b[38;5;241m=\u001b[39m \u001b[38;5;241m1\u001b[39m\n",
      "\u001b[1;31mStopIteration\u001b[0m: "
     ]
    }
   ],
   "source": [
    "next(participantes)\n",
    "\n",
    "#Raise error por la linea         if self.__index == len(self.__participants):\n",
    "#                                     raise StopIteration"
   ]
  },
  {
   "cell_type": "code",
   "execution_count": 72,
   "id": "f072b13e",
   "metadata": {},
   "outputs": [],
   "source": [
    "#PROPIEDADES DE CLASES#####################################################################################################"
   ]
  },
  {
   "cell_type": "code",
   "execution_count": 102,
   "id": "94cea0d1",
   "metadata": {},
   "outputs": [],
   "source": [
    "class Wrestler():\n",
    "    \n",
    "    def __init__(self):\n",
    "        self.__name = ''\n",
    "    \n",
    "    def set_name(self, name):\n",
    "        self.__name = name\n",
    "        print('set_name method called')\n",
    "    def get_name(self):\n",
    "        print('get_name method called')\n",
    "        return self.__name\n",
    "    def del_name(self):\n",
    "        del self.__name\n",
    "        print('del method called')\n",
    "    name = property(get_name, set_name, del_name)\n",
    "    # Sin la property name daria este error ---> 'Wrestler' object has no attribute 'name'"
   ]
  },
  {
   "cell_type": "code",
   "execution_count": 103,
   "id": "37d8501c",
   "metadata": {},
   "outputs": [
    {
     "name": "stdout",
     "output_type": "stream",
     "text": [
      "set_name method called\n"
     ]
    }
   ],
   "source": [
    "w = Wrestler()\n",
    "w.name = 'Rick'"
   ]
  },
  {
   "cell_type": "code",
   "execution_count": 104,
   "id": "1b13931f",
   "metadata": {},
   "outputs": [
    {
     "name": "stdout",
     "output_type": "stream",
     "text": [
      "get_name method called\n"
     ]
    },
    {
     "data": {
      "text/plain": [
       "'Rick'"
      ]
     },
     "execution_count": 104,
     "metadata": {},
     "output_type": "execute_result"
    }
   ],
   "source": [
    "w.name"
   ]
  },
  {
   "cell_type": "code",
   "execution_count": 105,
   "id": "4c0908a7",
   "metadata": {},
   "outputs": [
    {
     "name": "stdout",
     "output_type": "stream",
     "text": [
      "del method called\n"
     ]
    }
   ],
   "source": [
    "del w.name"
   ]
  },
  {
   "cell_type": "code",
   "execution_count": 106,
   "id": "2b301510",
   "metadata": {},
   "outputs": [],
   "source": [
    "#PROPIEDADES DE DECORATORS#####################################################################################################"
   ]
  },
  {
   "cell_type": "code",
   "execution_count": 113,
   "id": "76804a6e",
   "metadata": {},
   "outputs": [],
   "source": [
    "class Wrestler2():\n",
    "  \n",
    "    def __init__(self, name):\n",
    "        self.__name = name\n",
    "    \n",
    "    @property  \n",
    "    def name(self):\n",
    "        print('get_name method called')\n",
    "        return self.__name\n",
    "    \n",
    "    @name.setter\n",
    "    def name(self, value):\n",
    "        self.__name = value    \n",
    "        print('set_name method called')\n",
    "    \n",
    "    @name.deleter\n",
    "    def name(self):\n",
    "        del self.__name\n",
    "        print('del method called')\n"
   ]
  },
  {
   "cell_type": "code",
   "execution_count": 114,
   "id": "7dc56f7a",
   "metadata": {},
   "outputs": [],
   "source": [
    "w2 = Wrestler2('Adam')"
   ]
  },
  {
   "cell_type": "code",
   "execution_count": 115,
   "id": "7cd743e9",
   "metadata": {},
   "outputs": [
    {
     "name": "stdout",
     "output_type": "stream",
     "text": [
      "get_name method called\n"
     ]
    },
    {
     "data": {
      "text/plain": [
       "'Adam'"
      ]
     },
     "execution_count": 115,
     "metadata": {},
     "output_type": "execute_result"
    }
   ],
   "source": [
    "w2.name"
   ]
  },
  {
   "cell_type": "code",
   "execution_count": 116,
   "id": "c3ad8154",
   "metadata": {},
   "outputs": [
    {
     "name": "stdout",
     "output_type": "stream",
     "text": [
      "set_name method called\n"
     ]
    }
   ],
   "source": [
    "w2.name = 'Adam2'"
   ]
  },
  {
   "cell_type": "code",
   "execution_count": 117,
   "id": "678a0122",
   "metadata": {},
   "outputs": [
    {
     "name": "stdout",
     "output_type": "stream",
     "text": [
      "del method called\n"
     ]
    }
   ],
   "source": [
    "del w2.name"
   ]
  },
  {
   "cell_type": "code",
   "execution_count": 118,
   "id": "40384f73",
   "metadata": {},
   "outputs": [
    {
     "name": "stdout",
     "output_type": "stream",
     "text": [
      "set_name method called\n"
     ]
    }
   ],
   "source": [
    "w2.name = 'Nuevo'"
   ]
  },
  {
   "cell_type": "code",
   "execution_count": null,
   "id": "1ee4c8ed",
   "metadata": {},
   "outputs": [],
   "source": []
  }
 ],
 "metadata": {
  "kernelspec": {
   "display_name": "Python 3 (ipykernel)",
   "language": "python",
   "name": "python3"
  },
  "language_info": {
   "codemirror_mode": {
    "name": "ipython",
    "version": 3
   },
   "file_extension": ".py",
   "mimetype": "text/x-python",
   "name": "python",
   "nbconvert_exporter": "python",
   "pygments_lexer": "ipython3",
   "version": "3.9.12"
  }
 },
 "nbformat": 4,
 "nbformat_minor": 5
}
