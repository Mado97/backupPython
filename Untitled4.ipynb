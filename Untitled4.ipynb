{
 "cells": [
  {
   "cell_type": "code",
   "execution_count": 14,
   "id": "a035f4cc",
   "metadata": {},
   "outputs": [
    {
     "data": {
      "text/plain": [
       "'CLIIX'"
      ]
     },
     "execution_count": 14,
     "metadata": {},
     "output_type": "execute_result"
    }
   ],
   "source": [
    "class Solution:\n",
    "\n",
    "    def intToRoman(num: int) -> str:\n",
    "        roman = ''\n",
    "\n",
    "        thous = (num // 1000) * 'M' \n",
    "        roman += thous\n",
    "        num = num % 1000\n",
    "\n",
    "        cent = (num // 100)* 'C'\n",
    "        cent = beforeRoman(cent, num)\n",
    "        roman += cent\n",
    "        num = num % 100\n",
    "\n",
    "\n",
    "        dec = (num // 10)* 'X'\n",
    "        dec = beforeRoman(dec, num)\n",
    "        roman += dec\n",
    "        num = num % 10\n",
    "\n",
    "        un = (num // 1)* 'I'\n",
    "        un = beforeRoman(un, num)\n",
    "        roman += un\n",
    "        \n",
    "        return roman\n",
    "\n",
    "    def beforeRoman(x,y):\n",
    "        #900 , 800 , 500 , 400\n",
    "        if y // 100 == 9 :\n",
    "            x = \"CM\" \n",
    "\n",
    "        elif y // 100 == 5 :\n",
    "            x = \"D\" \n",
    "        elif y // 100 == 4:\n",
    "            x = \"CD\"\n",
    "        #90 , 80 , 50 , 40\n",
    "        elif y // 10 == 9 :\n",
    "            x = \"XC\" \n",
    "\n",
    "        elif y // 10 == 5 :\n",
    "            x = \"L\" \n",
    "        elif y // 10 == 4:\n",
    "            x = \"XL\"\n",
    "        #9 , 8 , 5 , 1    \n",
    "        elif y // 1 == 9 :\n",
    "            x = \"IX\" \n",
    "\n",
    "        elif y // 1 == 5 :\n",
    "            x = \"V\" \n",
    "        elif y // 1 == 4:\n",
    "            x = \"IV\"\n",
    "        return x\n",
    "\n",
    "intToRoman(158)"
   ]
  },
  {
   "cell_type": "code",
   "execution_count": null,
   "id": "a6098312",
   "metadata": {},
   "outputs": [],
   "source": []
  }
 ],
 "metadata": {
  "kernelspec": {
   "display_name": "Python 3 (ipykernel)",
   "language": "python",
   "name": "python3"
  },
  "language_info": {
   "codemirror_mode": {
    "name": "ipython",
    "version": 3
   },
   "file_extension": ".py",
   "mimetype": "text/x-python",
   "name": "python",
   "nbconvert_exporter": "python",
   "pygments_lexer": "ipython3",
   "version": "3.9.12"
  }
 },
 "nbformat": 4,
 "nbformat_minor": 5
}
