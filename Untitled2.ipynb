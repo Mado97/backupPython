{
 "cells": [
  {
   "cell_type": "code",
   "execution_count": 2,
   "id": "a2fafe82",
   "metadata": {},
   "outputs": [],
   "source": [
    "s = list(\"dsadasdas\")"
   ]
  },
  {
   "cell_type": "code",
   "execution_count": 4,
   "id": "1ffc8bd5",
   "metadata": {},
   "outputs": [
    {
     "data": {
      "text/plain": [
       "1"
      ]
     },
     "execution_count": 4,
     "metadata": {},
     "output_type": "execute_result"
    }
   ],
   "source": [
    "s.index('s')"
   ]
  },
  {
   "cell_type": "code",
   "execution_count": 38,
   "id": "2ebc339c",
   "metadata": {
    "scrolled": false
   },
   "outputs": [
    {
     "data": {
      "text/plain": [
       "'1 1 1 1 1 1'"
      ]
     },
     "execution_count": 38,
     "metadata": {},
     "output_type": "execute_result"
    }
   ],
   "source": [
    "def good_vs_evil(good, evil):\n",
    "    clean(good)\n",
    "    return good\n",
    "    \n",
    "def clean(good):\n",
    "    return \" \".join(good.split())\n",
    "  \n",
    "good_vs_evil('1 1 1 1 1 1', '1 1 0 0 0 0')"
   ]
  },
  {
   "cell_type": "code",
   "execution_count": 66,
   "id": "01e58f19",
   "metadata": {},
   "outputs": [
    {
     "data": {
      "text/plain": [
       "6"
      ]
     },
     "execution_count": 66,
     "metadata": {},
     "output_type": "execute_result"
    }
   ],
   "source": [
    "def positive_sum(arr):\n",
    "        \n",
    "    return sum(x for x in arr)\n",
    "positive_sum([1,2,3])"
   ]
  },
  {
   "cell_type": "code",
   "execution_count": 78,
   "id": "2d1baa30",
   "metadata": {},
   "outputs": [],
   "source": [
    "def intToRoman(num: int) -> str:\n",
    "    roman = ''\n",
    "        \n",
    "    thous = (num // 1000) * 'M' \n",
    "    roman += thous\n",
    "    num = num % 1000\n",
    "        \n",
    "    cent = (num // 100)* 'C'\n",
    "    cent = beforeRoman(cent, num)\n",
    "    roman += cent\n",
    "    num = num % 100\n",
    "    \n",
    "    \n",
    "    if num // 10 == 5 :\n",
    "        dec = \"L\" \n",
    "    elif num // 10 == 4:\n",
    "        dec = \"XL\"\n",
    "    else: dec = (num // 10)* 'X'\n",
    "    roman += dec\n",
    "    num = num % 10\n",
    "    \n",
    "    un = (num // 1)* 'I'\n",
    "    roman += un\n",
    "        \n",
    "    return roman\n",
    "    \n",
    "def beforeRoman(x,y):\n",
    "    if y // 100 == 9 :\n",
    "        x = \"CM\" \n",
    "    elif y // 100 == 8:\n",
    "        x = \"CCM\"\n",
    "    \n",
    "    elif y // 100 == 5 :\n",
    "        x = \"D\" \n",
    "    elif y // 100 == 4:\n",
    "        x = \"CD\"\n",
    "    \n",
    "    elif y // 10 == 9 :\n",
    "        x = \"IX\" \n",
    "    elif y // 10 == 8:\n",
    "        x = \"IIX\"\n",
    "    elif y // 10 == 5 :\n",
    "        x = \"L\" \n",
    "    elif y // 10 == 4:\n",
    "        x = \"XL\"\n",
    "    print(y)\n",
    "    return x\n",
    "    \n",
    "    intToRoman(2500)"
   ]
  },
  {
   "cell_type": "code",
   "execution_count": null,
   "id": "ea66cc6d",
   "metadata": {},
   "outputs": [],
   "source": []
  }
 ],
 "metadata": {
  "kernelspec": {
   "display_name": "Python 3 (ipykernel)",
   "language": "python",
   "name": "python3"
  },
  "language_info": {
   "codemirror_mode": {
    "name": "ipython",
    "version": 3
   },
   "file_extension": ".py",
   "mimetype": "text/x-python",
   "name": "python",
   "nbconvert_exporter": "python",
   "pygments_lexer": "ipython3",
   "version": "3.9.12"
  }
 },
 "nbformat": 4,
 "nbformat_minor": 5
}
