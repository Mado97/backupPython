{
 "cells": [
  {
   "cell_type": "code",
   "execution_count": 7,
   "id": "122c0e70",
   "metadata": {},
   "outputs": [],
   "source": [
    "class Calculadora:\n",
    "    def Suma(a,b):\n",
    "        return a + b\n",
    "    def Resta(a,b):\n",
    "        return a - b\n",
    "    def Multiplicacion(a,b):\n",
    "        return a * b\n",
    "    def Division(a,b):\n",
    "        return a / b\n",
    "    def Modular(a,b):\n",
    "        return a // b\n",
    "    def leerValores():\n",
    "        a = input(\"Ingresa el valor de a\")\n",
    "        b = input(\"Ingresa el valor de b\")\n",
    "        return a, b"
   ]
  },
  {
   "cell_type": "code",
   "execution_count": null,
   "id": "4dcde776",
   "metadata": {},
   "outputs": [],
   "source": [
    "def main(): \n",
    "    oper = input(\"+ Suma\\n, - Resta\\n, * Multiplicación\\n, / Division\\n, // Modular\\n\")\n",
    "    c = Calculadora.Resta(3,2)\n",
    "    c\n"
   ]
  },
  {
   "cell_type": "code",
   "execution_count": null,
   "id": "8e1aef91",
   "metadata": {},
   "outputs": [],
   "source": [
    "main()"
   ]
  },
  {
   "cell_type": "code",
   "execution_count": null,
   "id": "950b2bb7",
   "metadata": {},
   "outputs": [],
   "source": []
  }
 ],
 "metadata": {
  "kernelspec": {
   "display_name": "Python 3 (ipykernel)",
   "language": "python",
   "name": "python3"
  },
  "language_info": {
   "codemirror_mode": {
    "name": "ipython",
    "version": 3
   },
   "file_extension": ".py",
   "mimetype": "text/x-python",
   "name": "python",
   "nbconvert_exporter": "python",
   "pygments_lexer": "ipython3",
   "version": "3.9.12"
  }
 },
 "nbformat": 4,
 "nbformat_minor": 5
}
