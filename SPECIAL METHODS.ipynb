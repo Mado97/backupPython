{
 "cells": [
  {
   "cell_type": "code",
   "execution_count": 3,
   "id": "bc9dd9ba",
   "metadata": {},
   "outputs": [
    {
     "data": {
      "text/plain": [
       "3"
      ]
     },
     "execution_count": 3,
     "metadata": {},
     "output_type": "execute_result"
    }
   ],
   "source": [
    "#COCIENTE \n",
    "\n",
    "10 // 3"
   ]
  },
  {
   "cell_type": "code",
   "execution_count": 6,
   "id": "19db621d",
   "metadata": {},
   "outputs": [],
   "source": [
    "class MethodFloordiv:\n",
    "    def __init__(self, number):\n",
    "        self.__number = number\n",
    "    def __floordiv__(self, other):\n",
    "        return self.__number // other.__number"
   ]
  },
  {
   "cell_type": "code",
   "execution_count": 7,
   "id": "fbbc809b",
   "metadata": {},
   "outputs": [
    {
     "data": {
      "text/plain": [
       "3"
      ]
     },
     "execution_count": 7,
     "metadata": {},
     "output_type": "execute_result"
    }
   ],
   "source": [
    "n1 = MethodFloordiv(10)\n",
    "n2 = MethodFloordiv(3)\n",
    "n1 // n2"
   ]
  },
  {
   "cell_type": "code",
   "execution_count": 8,
   "id": "a3b76cb8",
   "metadata": {},
   "outputs": [
    {
     "data": {
      "text/plain": [
       "0"
      ]
     },
     "execution_count": 8,
     "metadata": {},
     "output_type": "execute_result"
    }
   ],
   "source": [
    "#RESIDUO\n",
    "\n",
    "4 % 2"
   ]
  },
  {
   "cell_type": "code",
   "execution_count": 10,
   "id": "c0d3fad5",
   "metadata": {},
   "outputs": [
    {
     "data": {
      "text/plain": [
       "1"
      ]
     },
     "execution_count": 10,
     "metadata": {},
     "output_type": "execute_result"
    }
   ],
   "source": [
    "int.__mod__(5, 2)"
   ]
  },
  {
   "cell_type": "code",
   "execution_count": 15,
   "id": "1f568ca8",
   "metadata": {},
   "outputs": [],
   "source": [
    "class MethodMod:\n",
    "    def __init__(self, number):\n",
    "        self.__number = number\n",
    "    def __mod__(self, other):\n",
    "        return self.__number % other.__number"
   ]
  },
  {
   "cell_type": "code",
   "execution_count": 16,
   "id": "8cd6d183",
   "metadata": {},
   "outputs": [
    {
     "data": {
      "text/plain": [
       "1"
      ]
     },
     "execution_count": 16,
     "metadata": {},
     "output_type": "execute_result"
    }
   ],
   "source": [
    "n3 = MethodMod(5)\n",
    "n4 = MethodMod(2)\n",
    "n3 % n4"
   ]
  },
  {
   "cell_type": "code",
   "execution_count": 17,
   "id": "d10a94f9",
   "metadata": {},
   "outputs": [
    {
     "data": {
      "text/plain": [
       "8"
      ]
     },
     "execution_count": 17,
     "metadata": {},
     "output_type": "execute_result"
    }
   ],
   "source": [
    "#POTENCIA \n",
    "2 ** 3"
   ]
  },
  {
   "cell_type": "code",
   "execution_count": 18,
   "id": "f7c034ad",
   "metadata": {},
   "outputs": [
    {
     "data": {
      "text/plain": [
       "8"
      ]
     },
     "execution_count": 18,
     "metadata": {},
     "output_type": "execute_result"
    }
   ],
   "source": [
    "int.__pow__(2,3)"
   ]
  },
  {
   "cell_type": "code",
   "execution_count": 19,
   "id": "2ca1df8b",
   "metadata": {},
   "outputs": [],
   "source": [
    "class MethodPow:\n",
    "    def __init__(self, number):\n",
    "        self.__number = number\n",
    "    def __pow__(self, other):\n",
    "        return self.__number ** other.__number"
   ]
  },
  {
   "cell_type": "code",
   "execution_count": 22,
   "id": "0fb58493",
   "metadata": {},
   "outputs": [
    {
     "data": {
      "text/plain": [
       "8"
      ]
     },
     "execution_count": 22,
     "metadata": {},
     "output_type": "execute_result"
    }
   ],
   "source": [
    "n5 = MethodPow(2)\n",
    "n6 = MethodPow(3)\n",
    "n5 ** n6"
   ]
  },
  {
   "cell_type": "code",
   "execution_count": 24,
   "id": "0e856afe",
   "metadata": {},
   "outputs": [
    {
     "data": {
      "text/plain": [
       "8"
      ]
     },
     "execution_count": 24,
     "metadata": {},
     "output_type": "execute_result"
    }
   ],
   "source": [
    "n5.__pow__(n6)"
   ]
  },
  {
   "cell_type": "code",
   "execution_count": null,
   "id": "906e4c78",
   "metadata": {},
   "outputs": [],
   "source": []
  }
 ],
 "metadata": {
  "kernelspec": {
   "display_name": "Python 3 (ipykernel)",
   "language": "python",
   "name": "python3"
  },
  "language_info": {
   "codemirror_mode": {
    "name": "ipython",
    "version": 3
   },
   "file_extension": ".py",
   "mimetype": "text/x-python",
   "name": "python",
   "nbconvert_exporter": "python",
   "pygments_lexer": "ipython3",
   "version": "3.9.12"
  }
 },
 "nbformat": 4,
 "nbformat_minor": 5
}
